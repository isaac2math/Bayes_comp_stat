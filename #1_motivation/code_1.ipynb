{
 "cells": [
  {
   "cell_type": "code",
   "execution_count": 9,
   "id": "7d122d2f-73a3-498c-8b7c-0b7a3476a490",
   "metadata": {},
   "outputs": [],
   "source": [
    "%reset -f\n",
    "\n",
    "import numpy as np\n",
    "import scipy as sp\n",
    "\n",
    "import matplotlib.pyplot as plt\n",
    "\n",
    "from scipy.stats import randint\n",
    "from scipy.stats import norm\n",
    "\n",
    "import pandas as pd\n",
    "\n",
    "np.random.seed(seed=5)"
   ]
  },
  {
   "cell_type": "code",
   "execution_count": 11,
   "id": "91aeb3ab-83e2-4c6a-a1ff-51d8f66b135c",
   "metadata": {},
   "outputs": [],
   "source": [
    "Y = []\n",
    "X = []\n",
    "\n",
    "beta_0 = []\n",
    "beta_1 = []\n",
    "group  = []\n",
    "\n",
    "for i in range(1,120):\n",
    "    \n",
    "    ind = randint.rvs(0,3)\n",
    "    b0  = ind * 6 + 5\n",
    "    b1  = ind * 6 + 5\n",
    "\n",
    "    income = norm.rvs(loc=5, scale=5, size=1)[0]\n",
    "    random = norm.rvs(loc=0, scale=5, size=1)[0]\n",
    "\n",
    "    consumption = b0 + b1 * income + random\n",
    "    \n",
    "    Y.append(consumption)\n",
    "    X.append(income)\n",
    "    beta_0.append(b0)\n",
    "    beta_1.append(b1)\n",
    "    group.append(ind)\n",
    "    \n",
    "d = {'Y' : pd.Series(Y),\n",
    "     'X' : pd.Series(X),\n",
    "     'group' : pd.Series(group)\n",
    "    }\n",
    " \n",
    "df = pd.DataFrame(d)"
   ]
  },
  {
   "cell_type": "code",
   "execution_count": 12,
   "id": "e3d8c41a-4d71-4ab5-af65-850a1a8b146c",
   "metadata": {},
   "outputs": [
    {
     "data": {
      "text/html": [
       "<div>\n",
       "<style scoped>\n",
       "    .dataframe tbody tr th:only-of-type {\n",
       "        vertical-align: middle;\n",
       "    }\n",
       "\n",
       "    .dataframe tbody tr th {\n",
       "        vertical-align: top;\n",
       "    }\n",
       "\n",
       "    .dataframe thead th {\n",
       "        text-align: right;\n",
       "    }\n",
       "</style>\n",
       "<table border=\"1\" class=\"dataframe\">\n",
       "  <thead>\n",
       "    <tr style=\"text-align: right;\">\n",
       "      <th></th>\n",
       "      <th>Y</th>\n",
       "      <th>X</th>\n",
       "      <th>group</th>\n",
       "    </tr>\n",
       "  </thead>\n",
       "  <tbody>\n",
       "    <tr>\n",
       "      <th>0</th>\n",
       "      <td>161.016172</td>\n",
       "      <td>8.131866</td>\n",
       "      <td>2</td>\n",
       "    </tr>\n",
       "    <tr>\n",
       "      <th>1</th>\n",
       "      <td>128.885544</td>\n",
       "      <td>6.730417</td>\n",
       "      <td>2</td>\n",
       "    </tr>\n",
       "    <tr>\n",
       "      <th>2</th>\n",
       "      <td>138.450277</td>\n",
       "      <td>11.702335</td>\n",
       "      <td>1</td>\n",
       "    </tr>\n",
       "    <tr>\n",
       "      <th>3</th>\n",
       "      <td>-5.591030</td>\n",
       "      <td>-0.877242</td>\n",
       "      <td>2</td>\n",
       "    </tr>\n",
       "    <tr>\n",
       "      <th>4</th>\n",
       "      <td>91.254262</td>\n",
       "      <td>6.722855</td>\n",
       "      <td>1</td>\n",
       "    </tr>\n",
       "    <tr>\n",
       "      <th>...</th>\n",
       "      <td>...</td>\n",
       "      <td>...</td>\n",
       "      <td>...</td>\n",
       "    </tr>\n",
       "    <tr>\n",
       "      <th>114</th>\n",
       "      <td>9.019188</td>\n",
       "      <td>3.549528</td>\n",
       "      <td>0</td>\n",
       "    </tr>\n",
       "    <tr>\n",
       "      <th>115</th>\n",
       "      <td>48.822181</td>\n",
       "      <td>1.337732</td>\n",
       "      <td>2</td>\n",
       "    </tr>\n",
       "    <tr>\n",
       "      <th>116</th>\n",
       "      <td>51.489679</td>\n",
       "      <td>2.300698</td>\n",
       "      <td>2</td>\n",
       "    </tr>\n",
       "    <tr>\n",
       "      <th>117</th>\n",
       "      <td>-19.827128</td>\n",
       "      <td>-2.036755</td>\n",
       "      <td>1</td>\n",
       "    </tr>\n",
       "    <tr>\n",
       "      <th>118</th>\n",
       "      <td>7.369775</td>\n",
       "      <td>-0.391853</td>\n",
       "      <td>1</td>\n",
       "    </tr>\n",
       "  </tbody>\n",
       "</table>\n",
       "<p>119 rows × 3 columns</p>\n",
       "</div>"
      ],
      "text/plain": [
       "              Y          X  group\n",
       "0    161.016172   8.131866      2\n",
       "1    128.885544   6.730417      2\n",
       "2    138.450277  11.702335      1\n",
       "3     -5.591030  -0.877242      2\n",
       "4     91.254262   6.722855      1\n",
       "..          ...        ...    ...\n",
       "114    9.019188   3.549528      0\n",
       "115   48.822181   1.337732      2\n",
       "116   51.489679   2.300698      2\n",
       "117  -19.827128  -2.036755      1\n",
       "118    7.369775  -0.391853      1\n",
       "\n",
       "[119 rows x 3 columns]"
      ]
     },
     "execution_count": 12,
     "metadata": {},
     "output_type": "execute_result"
    }
   ],
   "source": [
    "df"
   ]
  },
  {
   "cell_type": "code",
   "execution_count": 14,
   "id": "a91e8573-2f0e-4c47-ad63-89de3a023502",
   "metadata": {},
   "outputs": [
    {
     "data": {
      "image/png": "[encoded data removed]",
      "text/plain": [
       "<Figure size 432x288 with 1 Axes>"
      ]
     },
     "metadata": {
      "needs_background": "light"
     },
     "output_type": "display_data"
    }
   ],
   "source": [
    "fig = plt.figure()\n",
    "\n",
    "plt.scatter(df['X'][df['group'] == 0], df['Y'][df['group'] == 0], color='blue', label='mood = bad')\n",
    "plt.scatter(df['X'][df['group'] == 1], df['Y'][df['group'] == 1], color='red', label='mood = fine')\n",
    "plt.scatter(df['X'][df['group'] == 2], df['Y'][df['group'] == 2], color='green', label='mood = good')\n",
    "\n",
    "plt.xlabel('X')\n",
    "plt.ylabel('Y')\n",
    "\n",
    "plt.legend()\n",
    "\n",
    "plt.show()"
   ]
  },
  {
   "cell_type": "code",
   "execution_count": 16,
   "id": "6e11f4bf-14a1-48ed-95e9-47f59741a8bc",
   "metadata": {},
   "outputs": [
    {
     "data": {
      "image/png": "[encoded data removed]",
      "text/plain": [
       "<Figure size 432x288 with 1 Axes>"
      ]
     },
     "metadata": {
      "needs_background": "light"
     },
     "output_type": "display_data"
    }
   ],
   "source": [
    "fig = plt.figure()\n",
    "\n",
    "plt.scatter(df['X'], df['Y'])\n",
    "\n",
    "plt.xlabel('X')\n",
    "plt.ylabel('Y')\n",
    "\n",
    "plt.show()"
   ]
  },
  {
   "cell_type": "code",
   "execution_count": 17,
   "id": "97b426ab-4d63-4cc8-abd3-899d3428413d",
   "metadata": {},
   "outputs": [
    {
     "name": "stdout",
     "output_type": "stream",
     "text": [
      "                            OLS Regression Results                            \n",
      "==============================================================================\n",
      "Dep. Variable:                      Y   R-squared:                       0.705\n",
      "Model:                            OLS   Adj. R-squared:                  0.702\n",
      "Method:                 Least Squares   F-statistic:                     279.6\n",
      "Date:                Sat, 30 Oct 2021   Prob (F-statistic):           8.41e-33\n",
      "Time:                        02:16:05   Log-Likelihood:                -596.07\n",
      "No. Observations:                 119   AIC:                             1196.\n",
      "Df Residuals:                     117   BIC:                             1202.\n",
      "Df Model:                           1                                         \n",
      "Covariance Type:            nonrobust                                         \n",
      "==============================================================================\n",
      "                 coef    std err          t      P>|t|      [0.025      0.975]\n",
      "------------------------------------------------------------------------------\n",
      "const          8.3647      4.781      1.750      0.083      -1.103      17.832\n",
      "X             12.0415      0.720     16.722      0.000      10.615      13.468\n",
      "==============================================================================\n",
      "Omnibus:                        2.896   Durbin-Watson:                   1.891\n",
      "Prob(Omnibus):                  0.235   Jarque-Bera (JB):                2.359\n",
      "Skew:                          -0.321   Prob(JB):                        0.307\n",
      "Kurtosis:                       3.254   Cond. No.                         9.58\n",
      "==============================================================================\n",
      "\n",
      "Notes:\n",
      "[1] Standard Errors assume that the covariance matrix of the errors is correctly specified.\n"
     ]
    }
   ],
   "source": [
    "import statsmodels.api   as sm\n",
    "\n",
    "X_one = df[['X']]\n",
    "X_one = sm.add_constant(X_one)\n",
    "Y_one = df[['Y']]\n",
    "\n",
    "reg1 = sm.OLS(Y_one, X_one)\n",
    "\n",
    "result1 = reg1.fit()\n",
    "print(result1.summary())\n"
   ]
  },
  {
   "cell_type": "code",
   "execution_count": 18,
   "id": "891f87fa-124c-416b-bceb-d6d47d2c519c",
   "metadata": {},
   "outputs": [],
   "source": [
    "df['Yhat'] = result1.predict()"
   ]
  },
  {
   "cell_type": "code",
   "execution_count": 19,
   "id": "eb246b8b-f6ad-46c1-939e-9b0d9bf7403e",
   "metadata": {},
   "outputs": [
    {
     "data": {
      "image/png": "[encoded data removed]",
      "text/plain": [
       "<Figure size 432x288 with 1 Axes>"
      ]
     },
     "metadata": {
      "needs_background": "light"
     },
     "output_type": "display_data"
    }
   ],
   "source": [
    "fig = plt.figure()\n",
    "\n",
    "plt.scatter(df['X'],df['Y'])\n",
    "plt.plot(df['X'], df['Yhat'], color = 'red')\n",
    "\n",
    "plt.xlabel('X')\n",
    "plt.ylabel('Y')\n",
    "\n",
    "plt.show()"
   ]
  },
  {
   "cell_type": "code",
   "execution_count": null,
   "id": "0ee8cccb-9d9c-435d-89b2-3b4a6b833bd3",
   "metadata": {},
   "outputs": [],
   "source": []
  },
  {
   "cell_type": "code",
   "execution_count": null,
   "id": "c8417668-dd97-4034-8ffd-404559973f14",
   "metadata": {},
   "outputs": [],
   "source": []
  }
 ],
 "metadata": {
  "kernelspec": {
   "display_name": "Python 3 (ipykernel)",
   "language": "python",
   "name": "python3"
  },
  "language_info": {
   "codemirror_mode": {
    "name": "ipython",
    "version": 3
   },
   "file_extension": ".py",
   "mimetype": "text/x-python",
   "name": "python",
   "nbconvert_exporter": "python",
   "pygments_lexer": "ipython3",
   "version": "3.9.7"
  }
 },
 "nbformat": 4,
 "nbformat_minor": 5
}
